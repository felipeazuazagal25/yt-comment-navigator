{
 "cells": [
  {
   "attachments": {},
   "cell_type": "markdown",
   "metadata": {},
   "source": [
    "# Model Development"
   ]
  },
  {
   "cell_type": "code",
   "execution_count": 4,
   "metadata": {},
   "outputs": [],
   "source": [
    "# Importing the API Key\n",
    "import configparser\n",
    "config = configparser.ConfigParser()\n",
    "config.read('config.ini')\n",
    "api_key = config['youtube']['api_key']"
   ]
  },
  {
   "cell_type": "code",
   "execution_count": 6,
   "metadata": {},
   "outputs": [],
   "source": [
    "from IPython.display import JSON\n",
    "import googleapiclient.discovery"
   ]
  },
  {
   "cell_type": "code",
   "execution_count": 13,
   "metadata": {},
   "outputs": [
    {
     "data": {
      "application/json": {
       "etag": "FtqcIx0NHl6Idm5BAoUUyqMiGIQ",
       "items": [
        {
         "etag": "sX9f1DRH8-9iJtuH5rld1hR79hc",
         "id": "Ugyye8wYAxW74VnkiFJ4AaABAg",
         "kind": "youtube#commentThread",
         "snippet": {
          "canReply": true,
          "isPublic": true,
          "topLevelComment": {
           "etag": "3jYbd2Ob5byG3AzdNerA4Fnxhyk",
           "id": "Ugyye8wYAxW74VnkiFJ4AaABAg",
           "kind": "youtube#comment",
           "snippet": {
            "authorChannelId": {
             "value": "UCZlS3PCEKUMjpFbuBGvvyeA"
            },
            "authorChannelUrl": "http://www.youtube.com/channel/UCZlS3PCEKUMjpFbuBGvvyeA",
            "authorDisplayName": "Louda Rakotondrafara",
            "authorProfileImageUrl": "https://yt3.ggpht.com/ytc/AGIKgqNApoynGdpu6hP_H5Brh22HgSQtHFmYccQXFsqeIg=s48-c-k-c0x00ffffff-no-rj",
            "canRate": true,
            "likeCount": 1,
            "publishedAt": "2023-06-03T20:39:02Z",
            "textDisplay": "If some of you are getting this kind of ugly output (&lt;IPython.core.display.JSON object&gt;) when running JSON(response), use Jupyter lab instead of notebook as she advised 🙂",
            "textOriginal": "If some of you are getting this kind of ugly output (<IPython.core.display.JSON object>) when running JSON(response), use Jupyter lab instead of notebook as she advised 🙂",
            "updatedAt": "2023-06-03T20:39:02Z",
            "videoId": "D56_Cx36oGY",
            "viewerRating": "none"
           }
          },
          "totalReplyCount": 0,
          "videoId": "D56_Cx36oGY"
         }
        },
        {
         "etag": "Y2DVTS05nbHVvwlYeuKPMYf18Ps",
         "id": "UgzX1T6put5LlbbRm8J4AaABAg",
         "kind": "youtube#commentThread",
         "replies": {
          "comments": [
           {
            "etag": "yeyJh7t2WQZZjjW6rGiaqa0mpWM",
            "id": "UgzX1T6put5LlbbRm8J4AaABAg.9qORdbqDyOz9qOeJJwBGT8",
            "kind": "youtube#comment",
            "snippet": {
             "authorChannelId": {
              "value": "UCJQJAI7IjbLcpsjWdSzYz0Q"
             },
             "authorChannelUrl": "http://www.youtube.com/channel/UCJQJAI7IjbLcpsjWdSzYz0Q",
             "authorDisplayName": "Thu Vu data analytics",
             "authorProfileImageUrl": "https://yt3.ggpht.com/s3HLl-uzqEaqww2tkWKgjLFfgoe2NUsu4tRLm7g5TOScMK3aqOl1wGhar3yZRa1VH4BK3rzHyg=s48-c-k-c0x00ffffff-no-rj",
             "canRate": true,
             "likeCount": 0,
             "parentId": "UgzX1T6put5LlbbRm8J4AaABAg",
             "publishedAt": "2023-05-31T22:24:31Z",
             "textDisplay": "Thanks for this feedback Justin! I think the concat method might be deprecated.",
             "textOriginal": "Thanks for this feedback Justin! I think the concat method might be deprecated.",
             "updatedAt": "2023-05-31T22:24:31Z",
             "videoId": "D56_Cx36oGY",
             "viewerRating": "none"
            }
           }
          ]
         },
         "snippet": {
          "canReply": true,
          "isPublic": true,
          "topLevelComment": {
           "etag": "zfToSU3QR2_RoVy4fgLSBF77Hdc",
           "id": "UgzX1T6put5LlbbRm8J4AaABAg",
           "kind": "youtube#comment",
           "snippet": {
            "authorChannelId": {
             "value": "UCoI-ey0axHSBB2aGH74jgJw"
            },
            "authorChannelUrl": "http://www.youtube.com/channel/UCoI-ey0axHSBB2aGH74jgJw",
            "authorDisplayName": "Justin",
            "authorProfileImageUrl": "https://yt3.ggpht.com/ytc/AGIKgqMSc4yzw8kjdg9bC0UwNpVptBwthmjsAumDBCqPXdauJItnIrdXWSl8cDI3cfPV=s48-c-k-c0x00ffffff-no-rj",
            "canRate": true,
            "likeCount": 1,
            "publishedAt": "2023-05-31T20:25:06Z",
            "textDisplay": "Hey Thu,<br><br>Have been writing, rewriting different variations of the code and analyzing different channels and I found that the .append  used when getting the video statistics results in an error... so I instead had to use pd.concat - not sure if anyone else has had that experience. I have pandas set as pd, and everything else seems to be good to go, it was just in this specific section<br><br>&quot;<br>video_df = pd.concat(video_frames, ignore_index=True)<br><br>comments_df = pd.concat(comments_frames, ignore_index=True)<br><br>&quot;",
            "textOriginal": "Hey Thu,\n\nHave been writing, rewriting different variations of the code and analyzing different channels and I found that the .append  used when getting the video statistics results in an error... so I instead had to use pd.concat - not sure if anyone else has had that experience. I have pandas set as pd, and everything else seems to be good to go, it was just in this specific section\n\n\"\nvideo_df = pd.concat(video_frames, ignore_index=True)\n\ncomments_df = pd.concat(comments_frames, ignore_index=True)\n\n\"",
            "updatedAt": "2023-05-31T20:25:06Z",
            "videoId": "D56_Cx36oGY",
            "viewerRating": "none"
           }
          },
          "totalReplyCount": 1,
          "videoId": "D56_Cx36oGY"
         }
        },
        {
         "etag": "luD4lGTRSvu5_1_9-yKOZBS_Bjk",
         "id": "Ugwnr1I6O1jQzS6DQc54AaABAg",
         "kind": "youtube#commentThread",
         "snippet": {
          "canReply": true,
          "isPublic": true,
          "topLevelComment": {
           "etag": "Q8MNksDOBSGfb1Y0DLK-ckGH8j4",
           "id": "Ugwnr1I6O1jQzS6DQc54AaABAg",
           "kind": "youtube#comment",
           "snippet": {
            "authorChannelId": {
             "value": "UCJS4C1JkOSrW1OsfLTC6mEw"
            },
            "authorChannelUrl": "http://www.youtube.com/channel/UCJS4C1JkOSrW1OsfLTC6mEw",
            "authorDisplayName": "Lil Shaun Picanto",
            "authorProfileImageUrl": "https://yt3.ggpht.com/hKk6WIrH-y-GS_cWHB5fvT8S0YnA-XRlOtMwvzWD-5vtUc-HKaQTRutHvsDBTOXRKzyGSKaeoUs=s48-c-k-c0x00ffffff-no-rj",
            "canRate": true,
            "likeCount": 0,
            "publishedAt": "2023-05-21T09:30:23Z",
            "textDisplay": "How do we hide our API keys from our GitHub repo",
            "textOriginal": "How do we hide our API keys from our GitHub repo",
            "updatedAt": "2023-05-21T09:30:23Z",
            "videoId": "D56_Cx36oGY",
            "viewerRating": "none"
           }
          },
          "totalReplyCount": 0,
          "videoId": "D56_Cx36oGY"
         }
        },
        {
         "etag": "lLZG8ZrF83I6--HXk8IBUfLk0cY",
         "id": "UgxEJgCzFokKVppzUqt4AaABAg",
         "kind": "youtube#commentThread",
         "snippet": {
          "canReply": true,
          "isPublic": true,
          "topLevelComment": {
           "etag": "NFQ6SntBBCSV0DONO4nJDC21ON0",
           "id": "UgxEJgCzFokKVppzUqt4AaABAg",
           "kind": "youtube#comment",
           "snippet": {
            "authorChannelId": {
             "value": "UCSfcl0np556-bkzIWueG52g"
            },
            "authorChannelUrl": "http://www.youtube.com/channel/UCSfcl0np556-bkzIWueG52g",
            "authorDisplayName": "Mahmoud Khattab",
            "authorProfileImageUrl": "https://yt3.ggpht.com/ytc/AGIKgqNZgoT12CGJVTJXn7quSPxoiS3F9tdWLoqHm3FV6g=s48-c-k-c0x00ffffff-no-rj",
            "canRate": true,
            "likeCount": 0,
            "publishedAt": "2023-05-19T08:02:31Z",
            "textDisplay": "WooooW , great effort, Thank you so much, All the best and waiting for more videos",
            "textOriginal": "WooooW , great effort, Thank you so much, All the best and waiting for more videos",
            "updatedAt": "2023-05-19T08:02:31Z",
            "videoId": "D56_Cx36oGY",
            "viewerRating": "none"
           }
          },
          "totalReplyCount": 0,
          "videoId": "D56_Cx36oGY"
         }
        },
        {
         "etag": "W4zLeqHfI_-fOLn7kQj8I6loPMI",
         "id": "Ugw73Cn5mvvGNfYZs8F4AaABAg",
         "kind": "youtube#commentThread",
         "snippet": {
          "canReply": true,
          "isPublic": true,
          "topLevelComment": {
           "etag": "WtEMEdCpYzinJ2_YeUZCEbtMZjw",
           "id": "Ugw73Cn5mvvGNfYZs8F4AaABAg",
           "kind": "youtube#comment",
           "snippet": {
            "authorChannelId": {
             "value": "UC9vZ4O_AeCnrO58hikkRL8A"
            },
            "authorChannelUrl": "http://www.youtube.com/channel/UC9vZ4O_AeCnrO58hikkRL8A",
            "authorDisplayName": "alqods80",
            "authorProfileImageUrl": "https://yt3.ggpht.com/ytc/AGIKgqO1BMX-XgWaPGvqZu2GC8c9qDUEAOpxxgUDtA=s48-c-k-c0x00ffffff-no-rj",
            "canRate": true,
            "likeCount": 0,
            "publishedAt": "2023-05-03T22:59:21Z",
            "textDisplay": "Great video, but what’s makes the project unique compared to: <br>YouTube Analytics<br>VidIQ<br>TubeBuddy<br>Social Blade<br>Google Analytics",
            "textOriginal": "Great video, but what’s makes the project unique compared to: \nYouTube Analytics\nVidIQ\nTubeBuddy\nSocial Blade\nGoogle Analytics",
            "updatedAt": "2023-05-03T22:59:21Z",
            "videoId": "D56_Cx36oGY",
            "viewerRating": "none"
           }
          },
          "totalReplyCount": 0,
          "videoId": "D56_Cx36oGY"
         }
        },
        {
         "etag": "5-KgQqD6ljVJNCgONbWgTbf3d8c",
         "id": "UgyMNvy4jiJ422rIlHB4AaABAg",
         "kind": "youtube#commentThread",
         "snippet": {
          "canReply": true,
          "isPublic": true,
          "topLevelComment": {
           "etag": "f-TSCnWfnTLXvindV8T3yjqVa7Q",
           "id": "UgyMNvy4jiJ422rIlHB4AaABAg",
           "kind": "youtube#comment",
           "snippet": {
            "authorChannelId": {
             "value": "UCgPjX0nwnmxhaK3au5IfoQQ"
            },
            "authorChannelUrl": "http://www.youtube.com/channel/UCgPjX0nwnmxhaK3au5IfoQQ",
            "authorDisplayName": "meomeoww.w",
            "authorProfileImageUrl": "https://yt3.ggpht.com/_PNosGf-evpgEoM3xJTKkd-Ubx6FjjmhsCH9X3sPRjj5R01h-MROLW551mYj9FqSjlxMAmNX=s48-c-k-c0x00ffffff-no-rj",
            "canRate": true,
            "likeCount": 0,
            "publishedAt": "2023-04-14T09:10:16Z",
            "textDisplay": "So clear, thank you chị  ❤❤",
            "textOriginal": "So clear, thank you chị  ❤❤",
            "updatedAt": "2023-04-14T09:10:16Z",
            "videoId": "D56_Cx36oGY",
            "viewerRating": "none"
           }
          },
          "totalReplyCount": 0,
          "videoId": "D56_Cx36oGY"
         }
        },
        {
         "etag": "kn6nyXJtRdSCsR0P__IoeSFsios",
         "id": "Ugy-_5GO3lzAQGJRz0N4AaABAg",
         "kind": "youtube#commentThread",
         "snippet": {
          "canReply": true,
          "isPublic": true,
          "topLevelComment": {
           "etag": "m2-puawEY44VkH2ZNecOCVG__Ig",
           "id": "Ugy-_5GO3lzAQGJRz0N4AaABAg",
           "kind": "youtube#comment",
           "snippet": {
            "authorChannelId": {
             "value": "UCd-Zn2d43vgfDNKhjVfNGHQ"
            },
            "authorChannelUrl": "http://www.youtube.com/channel/UCd-Zn2d43vgfDNKhjVfNGHQ",
            "authorDisplayName": "Anna Rocha",
            "authorProfileImageUrl": "https://yt3.ggpht.com/Q0xtZ5jCZUwtzuScufhf9fQfV_irfE-Agc1p6yIiWayIwxvftUUCtaV86zmIKTSO_X32VzdR=s48-c-k-c0x00ffffff-no-rj",
            "canRate": true,
            "likeCount": 1,
            "publishedAt": "2023-04-09T20:28:55Z",
            "textDisplay": "Thank you soooooooooo much this is awesome!!! 💕💕💕💕",
            "textOriginal": "Thank you soooooooooo much this is awesome!!! 💕💕💕💕",
            "updatedAt": "2023-04-09T20:28:55Z",
            "videoId": "D56_Cx36oGY",
            "viewerRating": "none"
           }
          },
          "totalReplyCount": 0,
          "videoId": "D56_Cx36oGY"
         }
        },
        {
         "etag": "5a9pv0PKcUKE_l3LTgpuYKj9Fxg",
         "id": "Ugx7xt82KgTVDxa5c9t4AaABAg",
         "kind": "youtube#commentThread",
         "snippet": {
          "canReply": true,
          "isPublic": true,
          "topLevelComment": {
           "etag": "f2sfNac_WZJqamXBo0NDGrxMvmg",
           "id": "Ugx7xt82KgTVDxa5c9t4AaABAg",
           "kind": "youtube#comment",
           "snippet": {
            "authorChannelId": {
             "value": "UCm7PIUtYY0MPOLwC5OHtztA"
            },
            "authorChannelUrl": "http://www.youtube.com/channel/UCm7PIUtYY0MPOLwC5OHtztA",
            "authorDisplayName": "Skwer One",
            "authorProfileImageUrl": "https://yt3.ggpht.com/ytc/AGIKgqMejONO9r6EFDeWLAQN_5mh-KV18UEToS4LcJ5rmXUE6saA2Cp-9L0ych1TzBoa=s48-c-k-c0x00ffffff-no-rj",
            "canRate": true,
            "likeCount": 0,
            "publishedAt": "2023-04-04T11:56:15Z",
            "textDisplay": "Can you please tell us how did you find out that you can use &#39;DeveloperKey&#39; instead?",
            "textOriginal": "Can you please tell us how did you find out that you can use 'DeveloperKey' instead?",
            "updatedAt": "2023-04-04T11:56:15Z",
            "videoId": "D56_Cx36oGY",
            "viewerRating": "none"
           }
          },
          "totalReplyCount": 0,
          "videoId": "D56_Cx36oGY"
         }
        },
        {
         "etag": "gui8Ba7LH8Fq29oc_spB3R4yT30",
         "id": "UgxCkKgX4jgJ4W-JoH54AaABAg",
         "kind": "youtube#commentThread",
         "snippet": {
          "canReply": true,
          "isPublic": true,
          "topLevelComment": {
           "etag": "0TJ4Ky0wTVVHJjulle_yexo6Cxk",
           "id": "UgxCkKgX4jgJ4W-JoH54AaABAg",
           "kind": "youtube#comment",
           "snippet": {
            "authorChannelId": {
             "value": "UCfj19JWliMzNVg6nMgtwhNw"
            },
            "authorChannelUrl": "http://www.youtube.com/channel/UCfj19JWliMzNVg6nMgtwhNw",
            "authorDisplayName": "Dr. Fox",
            "authorProfileImageUrl": "https://yt3.ggpht.com/ytc/AGIKgqM-uzDLysvYII5u-hhKnaeYB_NYCaQx1-Ely4T5Zg=s48-c-k-c0x00ffffff-no-rj",
            "canRate": true,
            "likeCount": 0,
            "publishedAt": "2023-03-29T23:52:05Z",
            "textDisplay": "---------------------------------------------------------------------------<br>ModuleNotFoundError                       Traceback (most recent call last)<br>Input In [1], in &lt;cell line: 1&gt;()<br>----&gt; 1 from googleapiclient.discovery import build<br><br>ModuleNotFoundError: No module named &#39;googleapiclient&#39;<br><br>On and M1 MacBook Pro and I continue to receive this error although It looked fixed in the terminal, anyone any bright Ideas.",
            "textOriginal": "---------------------------------------------------------------------------\nModuleNotFoundError                       Traceback (most recent call last)\nInput In [1], in <cell line: 1>()\n----> 1 from googleapiclient.discovery import build\n\nModuleNotFoundError: No module named 'googleapiclient'\n\nOn and M1 MacBook Pro and I continue to receive this error although It looked fixed in the terminal, anyone any bright Ideas.",
            "updatedAt": "2023-03-29T23:52:05Z",
            "videoId": "D56_Cx36oGY",
            "viewerRating": "none"
           }
          },
          "totalReplyCount": 0,
          "videoId": "D56_Cx36oGY"
         }
        },
        {
         "etag": "DKuYupVa9W2iL7k9sD8HKcVUvS0",
         "id": "Ugx7TJQZwf9HuNf_FF14AaABAg",
         "kind": "youtube#commentThread",
         "snippet": {
          "canReply": true,
          "isPublic": true,
          "topLevelComment": {
           "etag": "xkNFjczpjLOhDsjcvp64jjOml-U",
           "id": "Ugx7TJQZwf9HuNf_FF14AaABAg",
           "kind": "youtube#comment",
           "snippet": {
            "authorChannelId": {
             "value": "UCydJg8uP2iVu85W0A5Etahw"
            },
            "authorChannelUrl": "http://www.youtube.com/channel/UCydJg8uP2iVu85W0A5Etahw",
            "authorDisplayName": "Kaviyarasu S",
            "authorProfileImageUrl": "https://yt3.ggpht.com/ytc/AGIKgqNR2pntle9gOKE2ZPdaBgvLLZ6rowmMUxeNoOA7bA=s48-c-k-c0x00ffffff-no-rj",
            "canRate": true,
            "likeCount": 0,
            "publishedAt": "2023-03-29T16:01:39Z",
            "textDisplay": "Mam please say, how to fix &quot;quota exceeded&quot; error",
            "textOriginal": "Mam please say, how to fix \"quota exceeded\" error",
            "updatedAt": "2023-03-29T16:01:39Z",
            "videoId": "D56_Cx36oGY",
            "viewerRating": "none"
           }
          },
          "totalReplyCount": 0,
          "videoId": "D56_Cx36oGY"
         }
        },
        {
         "etag": "1DISTS1uwnfLmT0YB3fg2mXW84Y",
         "id": "Ugxh4iCu_9SwM9HY6Gh4AaABAg",
         "kind": "youtube#commentThread",
         "snippet": {
          "canReply": true,
          "isPublic": true,
          "topLevelComment": {
           "etag": "3gl6WpdhsRto_GMVH6aEfjvW_Jg",
           "id": "Ugxh4iCu_9SwM9HY6Gh4AaABAg",
           "kind": "youtube#comment",
           "snippet": {
            "authorChannelId": {
             "value": "UC3PG2XwCSJX21PjwmV0ucKw"
            },
            "authorChannelUrl": "http://www.youtube.com/channel/UC3PG2XwCSJX21PjwmV0ucKw",
            "authorDisplayName": "Дана Филиппович",
            "authorProfileImageUrl": "https://yt3.ggpht.com/ytc/AGIKgqOwQ5N3r8mPCMwS7Cc1c7x9Tg9gwE6sfhXjlKOb2w=s48-c-k-c0x00ffffff-no-rj",
            "canRate": true,
            "likeCount": 0,
            "publishedAt": "2023-03-28T13:12:06Z",
            "textDisplay": "Great video, thanks!<br>I try to repeat your project for crochet channels and I have an error on the counting number of tags. <br>type object &#39;str&#39; has no attribute &#39;len&#39;.",
            "textOriginal": "Great video, thanks!\nI try to repeat your project for crochet channels and I have an error on the counting number of tags. \ntype object 'str' has no attribute 'len'.",
            "updatedAt": "2023-03-28T13:12:06Z",
            "videoId": "D56_Cx36oGY",
            "viewerRating": "none"
           }
          },
          "totalReplyCount": 0,
          "videoId": "D56_Cx36oGY"
         }
        },
        {
         "etag": "5w_yDgsG6EyQLxJaEcqQBRSy9F0",
         "id": "Ugzbnpxo2-jsL0UetEp4AaABAg",
         "kind": "youtube#commentThread",
         "snippet": {
          "canReply": true,
          "isPublic": true,
          "topLevelComment": {
           "etag": "-Huqz2IBa4qcCQpvKIbKP8zsT9Q",
           "id": "Ugzbnpxo2-jsL0UetEp4AaABAg",
           "kind": "youtube#comment",
           "snippet": {
            "authorChannelId": {
             "value": "UCZbaoPFjA9uFyTJP2e5-D8g"
            },
            "authorChannelUrl": "http://www.youtube.com/channel/UCZbaoPFjA9uFyTJP2e5-D8g",
            "authorDisplayName": "Lennox_wrld",
            "authorProfileImageUrl": "https://yt3.ggpht.com/ytc/AGIKgqP367W-8xf8iOvljiE5d-KUABIT9ktzhvgtvw=s48-c-k-c0x00ffffff-no-rj",
            "canRate": true,
            "likeCount": 0,
            "publishedAt": "2023-03-27T22:25:16Z",
            "textDisplay": "i dont know how yall found this tutorial doable, I&#39;m stuck at the first cell and i haven&#39;t made progress since, even StackOverflow and chatgpt cant solve my errors, like idk perplex timeout, idk",
            "textOriginal": "i dont know how yall found this tutorial doable, I'm stuck at the first cell and i haven't made progress since, even StackOverflow and chatgpt cant solve my errors, like idk perplex timeout, idk",
            "updatedAt": "2023-03-27T22:25:16Z",
            "videoId": "D56_Cx36oGY",
            "viewerRating": "none"
           }
          },
          "totalReplyCount": 0,
          "videoId": "D56_Cx36oGY"
         }
        },
        {
         "etag": "cA36Cg_BIUgnZ5GkAOzVD2sMRgk",
         "id": "UgxeylT6ASCuLb8fOgh4AaABAg",
         "kind": "youtube#commentThread",
         "snippet": {
          "canReply": true,
          "isPublic": true,
          "topLevelComment": {
           "etag": "ZQp8mSg9YxrHvkiFgWK0eqyh5R4",
           "id": "UgxeylT6ASCuLb8fOgh4AaABAg",
           "kind": "youtube#comment",
           "snippet": {
            "authorChannelId": {
             "value": "UCkIkc77YacDWe1ieUFpMsFQ"
            },
            "authorChannelUrl": "http://www.youtube.com/channel/UCkIkc77YacDWe1ieUFpMsFQ",
            "authorDisplayName": "M CC",
            "authorProfileImageUrl": "https://yt3.ggpht.com/ytc/AGIKgqPFSjMbeX4OSiBK8QSQ3kBLc4_kxKNDP1hbLmu8Yw=s48-c-k-c0x00ffffff-no-rj",
            "canRate": true,
            "likeCount": 2,
            "publishedAt": "2023-03-21T21:06:57Z",
            "textDisplay": "Very clear code and well explained, Great job! 😎",
            "textOriginal": "Very clear code and well explained, Great job! 😎",
            "updatedAt": "2023-03-21T21:06:57Z",
            "videoId": "D56_Cx36oGY",
            "viewerRating": "none"
           }
          },
          "totalReplyCount": 0,
          "videoId": "D56_Cx36oGY"
         }
        },
        {
         "etag": "22EBk2dEoktxUnGoCrcePTx7kWA",
         "id": "Ugxog8QBkkSJMv3nhJV4AaABAg",
         "kind": "youtube#commentThread",
         "snippet": {
          "canReply": true,
          "isPublic": true,
          "topLevelComment": {
           "etag": "MZX0cZDuiVGe-jhUlTa5bhM9CDI",
           "id": "Ugxog8QBkkSJMv3nhJV4AaABAg",
           "kind": "youtube#comment",
           "snippet": {
            "authorChannelId": {
             "value": "UCFZjA7kwNV4lyDzhdgJv5qQ"
            },
            "authorChannelUrl": "http://www.youtube.com/channel/UCFZjA7kwNV4lyDzhdgJv5qQ",
            "authorDisplayName": "Thomas Antony",
            "authorProfileImageUrl": "https://yt3.ggpht.com/ytc/AGIKgqPVmgsdCTAFttRjX9vV226w5sq0dmPFzlVekA=s48-c-k-c0x00ffffff-no-rj",
            "canRate": true,
            "likeCount": 1,
            "publishedAt": "2023-03-18T05:11:44Z",
            "textDisplay": "Sending a lot of love ❤️",
            "textOriginal": "Sending a lot of love ❤️",
            "updatedAt": "2023-03-18T05:11:44Z",
            "videoId": "D56_Cx36oGY",
            "viewerRating": "none"
           }
          },
          "totalReplyCount": 0,
          "videoId": "D56_Cx36oGY"
         }
        },
        {
         "etag": "fvztL0gTPUuYQao8Y-Co1DEhl-k",
         "id": "UgxUr118JIiByE8JEOt4AaABAg",
         "kind": "youtube#commentThread",
         "snippet": {
          "canReply": true,
          "isPublic": true,
          "topLevelComment": {
           "etag": "gKgYWOpynvas5TtIiU94-ym-g80",
           "id": "UgxUr118JIiByE8JEOt4AaABAg",
           "kind": "youtube#comment",
           "snippet": {
            "authorChannelId": {
             "value": "UCquy_-cY_Bfqn_RLab1YOIA"
            },
            "authorChannelUrl": "http://www.youtube.com/channel/UCquy_-cY_Bfqn_RLab1YOIA",
            "authorDisplayName": "Thanh Lâm",
            "authorProfileImageUrl": "https://yt3.ggpht.com/ytc/AGIKgqMU1Qxcg9F2BzmC5j3iAvpWXyiiSE5RqtzXZ-iyDw=s48-c-k-c0x00ffffff-no-rj",
            "canRate": true,
            "likeCount": 0,
            "publishedAt": "2023-03-12T03:28:03Z",
            "textDisplay": "Chị là người Việt hả chị?",
            "textOriginal": "Chị là người Việt hả chị?",
            "updatedAt": "2023-03-12T03:28:03Z",
            "videoId": "D56_Cx36oGY",
            "viewerRating": "none"
           }
          },
          "totalReplyCount": 0,
          "videoId": "D56_Cx36oGY"
         }
        },
        {
         "etag": "DJwZLJrZHCYZT9MNg3xCJZRngaE",
         "id": "UgymcsIHuwVw5oklgcd4AaABAg",
         "kind": "youtube#commentThread",
         "replies": {
          "comments": [
           {
            "etag": "5a7Fn4elL06DprtF7McQMv3167w",
            "id": "UgymcsIHuwVw5oklgcd4AaABAg.9n-JOn4xH699n2cJ90hbAt",
            "kind": "youtube#comment",
            "snippet": {
             "authorChannelId": {
              "value": "UCJQJAI7IjbLcpsjWdSzYz0Q"
             },
             "authorChannelUrl": "http://www.youtube.com/channel/UCJQJAI7IjbLcpsjWdSzYz0Q",
             "authorDisplayName": "Thu Vu data analytics",
             "authorProfileImageUrl": "https://yt3.ggpht.com/s3HLl-uzqEaqww2tkWKgjLFfgoe2NUsu4tRLm7g5TOScMK3aqOl1wGhar3yZRa1VH4BK3rzHyg=s48-c-k-c0x00ffffff-no-rj",
             "canRate": true,
             "likeCount": 0,
             "parentId": "UgymcsIHuwVw5oklgcd4AaABAg",
             "publishedAt": "2023-03-09T19:29:32Z",
             "textDisplay": "Glad to hear it! 🙌",
             "textOriginal": "Glad to hear it! 🙌",
             "updatedAt": "2023-03-09T19:29:32Z",
             "videoId": "D56_Cx36oGY",
             "viewerRating": "none"
            }
           }
          ]
         },
         "snippet": {
          "canReply": true,
          "isPublic": true,
          "topLevelComment": {
           "etag": "sjlJAXd27pDFGaClPQHwaABojGc",
           "id": "UgymcsIHuwVw5oklgcd4AaABAg",
           "kind": "youtube#comment",
           "snippet": {
            "authorChannelId": {
             "value": "UCqRwpIHZga0kd_15nHsGqgw"
            },
            "authorChannelUrl": "http://www.youtube.com/channel/UCqRwpIHZga0kd_15nHsGqgw",
            "authorDisplayName": "Abdelrhman Hamdy",
            "authorProfileImageUrl": "https://yt3.ggpht.com/ytc/AGIKgqNURUZkJvyaH8iRjRZnLW1xalWGj7dxnCHVQzFo=s48-c-k-c0x00ffffff-no-rj",
            "canRate": true,
            "likeCount": 1,
            "publishedAt": "2023-03-08T12:37:50Z",
            "textDisplay": "fantastic explanation, precise and to the point, I&#39;m happy that I found this channel",
            "textOriginal": "fantastic explanation, precise and to the point, I'm happy that I found this channel",
            "updatedAt": "2023-03-08T12:37:50Z",
            "videoId": "D56_Cx36oGY",
            "viewerRating": "none"
           }
          },
          "totalReplyCount": 1,
          "videoId": "D56_Cx36oGY"
         }
        },
        {
         "etag": "q-7jsDWHnc4TJWkgtHhwpJp4pLk",
         "id": "Ugy6ho1Ut5f4wigVXKV4AaABAg",
         "kind": "youtube#commentThread",
         "snippet": {
          "canReply": true,
          "isPublic": true,
          "topLevelComment": {
           "etag": "xJSxVvxM7GxgEH6Os5OZcva3Fok",
           "id": "Ugy6ho1Ut5f4wigVXKV4AaABAg",
           "kind": "youtube#comment",
           "snippet": {
            "authorChannelId": {
             "value": "UCrojESKP7QT8jsysWkvd-Zw"
            },
            "authorChannelUrl": "http://www.youtube.com/channel/UCrojESKP7QT8jsysWkvd-Zw",
            "authorDisplayName": "Naresh Shekkari",
            "authorProfileImageUrl": "https://yt3.ggpht.com/ytc/AGIKgqMFFs-mrMUCDoLOI5_5tDktD8PomxC8viomol1Q2Q=s48-c-k-c0x00ffffff-no-rj",
            "canRate": true,
            "likeCount": 0,
            "publishedAt": "2023-03-07T17:02:42Z",
            "textDisplay": "Hi Madam,<br>Your explanation is awesome.<br>I need full Road map and guidance to become data analyst in 30 days.<br>Could you please provide learning content, where can I get all the details. <br>Thanks in advance.",
            "textOriginal": "Hi Madam,\nYour explanation is awesome.\nI need full Road map and guidance to become data analyst in 30 days.\nCould you please provide learning content, where can I get all the details. \nThanks in advance.",
            "updatedAt": "2023-03-07T17:02:42Z",
            "videoId": "D56_Cx36oGY",
            "viewerRating": "none"
           }
          },
          "totalReplyCount": 0,
          "videoId": "D56_Cx36oGY"
         }
        },
        {
         "etag": "7gx_lW5Svje1yfGGU9BrT4pMVao",
         "id": "UgyV3ZiOwpuYoFlow-F4AaABAg",
         "kind": "youtube#commentThread",
         "replies": {
          "comments": [
           {
            "etag": "HVufamctR1Rg_II4Xulhl-lnDxo",
            "id": "UgyV3ZiOwpuYoFlow-F4AaABAg.9mxkUxJN5RJ9n-5xb_u4S1",
            "kind": "youtube#comment",
            "snippet": {
             "authorChannelId": {
              "value": "UCcQvEXQb4MPKxIMQP1P5v3w"
             },
             "authorChannelUrl": "http://www.youtube.com/channel/UCcQvEXQb4MPKxIMQP1P5v3w",
             "authorDisplayName": "meriod",
             "authorProfileImageUrl": "https://yt3.ggpht.com/oLssjf_EPB1QcjlZ8ZuGv9RJOMwKA0ruJ-q914j0K-aRdESNGjxSjs8ZOz15bxwKGnL1QMyeDg=s48-c-k-c0x00ffffff-no-rj",
             "canRate": true,
             "likeCount": 1,
             "parentId": "UgyV3ZiOwpuYoFlow-F4AaABAg",
             "publishedAt": "2023-03-08T10:40:23Z",
             "textDisplay": "@Thu Vu data analytics Thank you so much! Yeah, putting in some missing return function fixed the program! 😀",
             "textOriginal": "@Thu Vu data analytics Thank you so much! Yeah, putting in some missing return function fixed the program! 😀",
             "updatedAt": "2023-03-08T10:40:23Z",
             "videoId": "D56_Cx36oGY",
             "viewerRating": "none"
            }
           },
           {
            "etag": "pJsOET4yicBixwrDbByH443CHhE",
            "id": "UgyV3ZiOwpuYoFlow-F4AaABAg.9mxkUxJN5RJ9n-4jptUAHK",
            "kind": "youtube#comment",
            "snippet": {
             "authorChannelId": {
              "value": "UCJQJAI7IjbLcpsjWdSzYz0Q"
             },
             "authorChannelUrl": "http://www.youtube.com/channel/UCJQJAI7IjbLcpsjWdSzYz0Q",
             "authorDisplayName": "Thu Vu data analytics",
             "authorProfileImageUrl": "https://yt3.ggpht.com/s3HLl-uzqEaqww2tkWKgjLFfgoe2NUsu4tRLm7g5TOScMK3aqOl1wGhar3yZRa1VH4BK3rzHyg=s48-c-k-c0x00ffffff-no-rj",
             "canRate": true,
             "likeCount": 0,
             "parentId": "UgyV3ZiOwpuYoFlow-F4AaABAg",
             "publishedAt": "2023-03-08T10:29:46Z",
             "textDisplay": "Hey, I’m not sure which function you were having this issue, but I’ve fixed some things in the functions (eg missing return statement ) and pushed them on Git. Please pull those changes and try it again :)",
             "textOriginal": "Hey, I’m not sure which function you were having this issue, but I’ve fixed some things in the functions (eg missing return statement ) and pushed them on Git. Please pull those changes and try it again :)",
             "updatedAt": "2023-03-08T10:29:46Z",
             "videoId": "D56_Cx36oGY",
             "viewerRating": "none"
            }
           }
          ]
         },
         "snippet": {
          "canReply": true,
          "isPublic": true,
          "topLevelComment": {
           "etag": "pLf_WyDv4MqJy_B0H1dfj5DCaq4",
           "id": "UgyV3ZiOwpuYoFlow-F4AaABAg",
           "kind": "youtube#comment",
           "snippet": {
            "authorChannelId": {
             "value": "UCcQvEXQb4MPKxIMQP1P5v3w"
            },
            "authorChannelUrl": "http://www.youtube.com/channel/UCcQvEXQb4MPKxIMQP1P5v3w",
            "authorDisplayName": "meriod",
            "authorProfileImageUrl": "https://yt3.ggpht.com/oLssjf_EPB1QcjlZ8ZuGv9RJOMwKA0ruJ-q914j0K-aRdESNGjxSjs8ZOz15bxwKGnL1QMyeDg=s48-c-k-c0x00ffffff-no-rj",
            "canRate": true,
            "likeCount": 0,
            "publishedAt": "2023-03-07T12:45:37Z",
            "textDisplay": "Hello! Thank you so much for this video! It is really helpful!<br><br>I tried running the code for a channel that I’m interested in but I’m running into some trouble getting my dataframe populated. It’s always returning as empty. Would you know what’s causing this? 🙂",
            "textOriginal": "Hello! Thank you so much for this video! It is really helpful!\n\nI tried running the code for a channel that I’m interested in but I’m running into some trouble getting my dataframe populated. It’s always returning as empty. Would you know what’s causing this? 🙂",
            "updatedAt": "2023-03-07T12:45:37Z",
            "videoId": "D56_Cx36oGY",
            "viewerRating": "none"
           }
          },
          "totalReplyCount": 2,
          "videoId": "D56_Cx36oGY"
         }
        },
        {
         "etag": "P10x4UZUHUd9yiE7aqlL7joZOBA",
         "id": "Ugyrm0pYlp5DidHPE0N4AaABAg",
         "kind": "youtube#commentThread",
         "snippet": {
          "canReply": true,
          "isPublic": true,
          "topLevelComment": {
           "etag": "LMXWJGHiBEniOME-cTjS7ZtgZoU",
           "id": "Ugyrm0pYlp5DidHPE0N4AaABAg",
           "kind": "youtube#comment",
           "snippet": {
            "authorChannelId": {
             "value": "UCWiRSm1e9cImzGhmNF2USIg"
            },
            "authorChannelUrl": "http://www.youtube.com/channel/UCWiRSm1e9cImzGhmNF2USIg",
            "authorDisplayName": "Arewatmu",
            "authorProfileImageUrl": "https://yt3.ggpht.com/-tbucqIfahaVNgjt1djjFpQrMJvqb_GidaJ2Q2ComYEWD-Is945f6xXvQWDQyrLe71oFDg0k=s48-c-k-c0x00ffffff-no-rj",
            "canRate": true,
            "likeCount": 0,
            "publishedAt": "2023-03-02T09:06:22Z",
            "textDisplay": "Wtf. Is okay api key is not censored?",
            "textOriginal": "Wtf. Is okay api key is not censored?",
            "updatedAt": "2023-03-02T09:06:22Z",
            "videoId": "D56_Cx36oGY",
            "viewerRating": "none"
           }
          },
          "totalReplyCount": 0,
          "videoId": "D56_Cx36oGY"
         }
        },
        {
         "etag": "ANLZYatJtc7T2Okgfm449XKkzN0",
         "id": "Ugx0LxyXeeO4d75mk4p4AaABAg",
         "kind": "youtube#commentThread",
         "replies": {
          "comments": [
           {
            "etag": "IHG66Kpvqfc0kKHQ9YtcBFt40fI",
            "id": "Ugx0LxyXeeO4d75mk4p4AaABAg.9mgiC1_ipFJ9mi57PAUqEw",
            "kind": "youtube#comment",
            "snippet": {
             "authorChannelId": {
              "value": "UCJQJAI7IjbLcpsjWdSzYz0Q"
             },
             "authorChannelUrl": "http://www.youtube.com/channel/UCJQJAI7IjbLcpsjWdSzYz0Q",
             "authorDisplayName": "Thu Vu data analytics",
             "authorProfileImageUrl": "https://yt3.ggpht.com/s3HLl-uzqEaqww2tkWKgjLFfgoe2NUsu4tRLm7g5TOScMK3aqOl1wGhar3yZRa1VH4BK3rzHyg=s48-c-k-c0x00ffffff-no-rj",
             "canRate": true,
             "likeCount": 0,
             "parentId": "Ugx0LxyXeeO4d75mk4p4AaABAg",
             "publishedAt": "2023-03-01T10:46:47Z",
             "textDisplay": "Glad you enjoyed it!",
             "textOriginal": "Glad you enjoyed it!",
             "updatedAt": "2023-03-01T10:46:47Z",
             "videoId": "D56_Cx36oGY",
             "viewerRating": "none"
            }
           }
          ]
         },
         "snippet": {
          "canReply": true,
          "isPublic": true,
          "topLevelComment": {
           "etag": "ufNMnZNFqkD5p9TJFuZLC4LUnAY",
           "id": "Ugx0LxyXeeO4d75mk4p4AaABAg",
           "kind": "youtube#comment",
           "snippet": {
            "authorChannelId": {
             "value": "UCdpOlEGtiiDJzff6xb_qCIQ"
            },
            "authorChannelUrl": "http://www.youtube.com/channel/UCdpOlEGtiiDJzff6xb_qCIQ",
            "authorDisplayName": "Dat Boi",
            "authorProfileImageUrl": "https://yt3.ggpht.com/ytc/AGIKgqMsV3PTLP44G7GxbWjdQevFwCh3Tnm5EEnLHs57Kg=s48-c-k-c0x00ffffff-no-rj",
            "canRate": true,
            "likeCount": 0,
            "publishedAt": "2023-02-28T21:58:29Z",
            "textDisplay": "Your video was the perfect introduction to YouTube&#39;s API. Thank you for this.",
            "textOriginal": "Your video was the perfect introduction to YouTube's API. Thank you for this.",
            "updatedAt": "2023-02-28T21:58:29Z",
            "videoId": "D56_Cx36oGY",
            "viewerRating": "none"
           }
          },
          "totalReplyCount": 1,
          "videoId": "D56_Cx36oGY"
         }
        }
       ],
       "kind": "youtube#commentThreadListResponse",
       "nextPageToken": "QURTSl9pM3Y3V0doaDJKT1FQSjUyTElGa29pT0ZsY29MY0stV2pJRzZvZHh3NjJtS19abnA4TVJzN1RObXdRNFVxNWdsamtxRW1HSTB1QQ==",
       "pageInfo": {
        "resultsPerPage": 20,
        "totalResults": 20
       }
      },
      "text/plain": [
       "<IPython.core.display.JSON object>"
      ]
     },
     "execution_count": 13,
     "metadata": {
      "application/json": {
       "expanded": false,
       "root": "root"
      }
     },
     "output_type": "execute_result"
    }
   ],
   "source": [
    "api_service_name = \"youtube\"\n",
    "api_version = \"v3\"\n",
    "\n",
    "youtube = googleapiclient.discovery.build(\n",
    "    api_service_name, api_version, developerKey = api_key)\n",
    "\n",
    "request = youtube.commentThreads().list(\n",
    "    part=\"snippet,replies\",\n",
    "    videoId=\"D56_Cx36oGY\"\n",
    ")\n",
    "response = request.execute()\n",
    "next_page_token = response.get('next_page_token')\n",
    "while next_page_token is not None:\n",
    "    request = youtube.commentThreads().list(\n",
    "        part=\"snippet,replies\",\n",
    "        videoId=\"D56_Cx36oGY\"\n",
    "    )\n",
    "    response = request.execute()\n",
    "    next_page_token = response.get('next_page_token')\n",
    "\n",
    "JSON(response)"
   ]
  },
  {
   "cell_type": "code",
   "execution_count": 15,
   "metadata": {},
   "outputs": [
    {
     "name": "stdout",
     "output_type": "stream",
     "text": [
      "If some of you are getting this kind of ugly output (<IPython.core.display.JSON object>) when running JSON(response), use Jupyter lab instead of notebook as she advised 🙂 \n",
      "\n",
      "Hey Thu,\n",
      "\n",
      "Have been writing, rewriting different variations of the code and analyzing different channels and I found that the .append  used when getting the video statistics results in an error... so I instead had to use pd.concat - not sure if anyone else has had that experience. I have pandas set as pd, and everything else seems to be good to go, it was just in this specific section\n",
      "\n",
      "\"\n",
      "video_df = pd.concat(video_frames, ignore_index=True)\n",
      "\n",
      "comments_df = pd.concat(comments_frames, ignore_index=True)\n",
      "\n",
      "\" \n",
      "\n",
      "How do we hide our API keys from our GitHub repo \n",
      "\n",
      "WooooW , great effort, Thank you so much, All the best and waiting for more videos \n",
      "\n",
      "Great video, but what’s makes the project unique compared to: \n",
      "YouTube Analytics\n",
      "VidIQ\n",
      "TubeBuddy\n",
      "Social Blade\n",
      "Google Analytics \n",
      "\n",
      "So clear, thank you chị  ❤❤ \n",
      "\n",
      "Thank you soooooooooo much this is awesome!!! 💕💕💕💕 \n",
      "\n",
      "Can you please tell us how did you find out that you can use 'DeveloperKey' instead? \n",
      "\n",
      "---------------------------------------------------------------------------\n",
      "ModuleNotFoundError                       Traceback (most recent call last)\n",
      "Input In [1], in <cell line: 1>()\n",
      "----> 1 from googleapiclient.discovery import build\n",
      "\n",
      "ModuleNotFoundError: No module named 'googleapiclient'\n",
      "\n",
      "On and M1 MacBook Pro and I continue to receive this error although It looked fixed in the terminal, anyone any bright Ideas. \n",
      "\n",
      "Mam please say, how to fix \"quota exceeded\" error \n",
      "\n",
      "Great video, thanks!\n",
      "I try to repeat your project for crochet channels and I have an error on the counting number of tags. \n",
      "type object 'str' has no attribute 'len'. \n",
      "\n",
      "i dont know how yall found this tutorial doable, I'm stuck at the first cell and i haven't made progress since, even StackOverflow and chatgpt cant solve my errors, like idk perplex timeout, idk \n",
      "\n",
      "Very clear code and well explained, Great job! 😎 \n",
      "\n",
      "Sending a lot of love ❤️ \n",
      "\n",
      "Chị là người Việt hả chị? \n",
      "\n",
      "fantastic explanation, precise and to the point, I'm happy that I found this channel \n",
      "\n",
      "Hi Madam,\n",
      "Your explanation is awesome.\n",
      "I need full Road map and guidance to become data analyst in 30 days.\n",
      "Could you please provide learning content, where can I get all the details. \n",
      "Thanks in advance. \n",
      "\n",
      "Hello! Thank you so much for this video! It is really helpful!\n",
      "\n",
      "I tried running the code for a channel that I’m interested in but I’m running into some trouble getting my dataframe populated. It’s always returning as empty. Would you know what’s causing this? 🙂 \n",
      "\n",
      "Wtf. Is okay api key is not censored? \n",
      "\n",
      "Your video was the perfect introduction to YouTube's API. Thank you for this. \n",
      "\n"
     ]
    }
   ],
   "source": [
    "comments=[]\n",
    "for item in response['items']:\n",
    "    comments.append(item['snippet']['topLevelComment']['snippet']['textOriginal'])\n",
    "    print(item['snippet']['topLevelComment']['snippet']['textOriginal'],\"\\n\")\n",
    "\n"
   ]
  }
 ],
 "metadata": {
  "kernelspec": {
   "display_name": "Python 3 (ipykernel)",
   "language": "python",
   "name": "python3"
  },
  "language_info": {
   "codemirror_mode": {
    "name": "ipython",
    "version": 3
   },
   "file_extension": ".py",
   "mimetype": "text/x-python",
   "name": "python",
   "nbconvert_exporter": "python",
   "pygments_lexer": "ipython3",
   "version": "3.8.10"
  }
 },
 "nbformat": 4,
 "nbformat_minor": 4
}
